{
 "cells": [
  {
   "cell_type": "code",
   "execution_count": 1,
   "metadata": {},
   "outputs": [],
   "source": [
    "from os import listdir\n",
    "from sklearn import preprocessing\n",
    "import matplotlib.image as image\n",
    "import numpy as np"
   ]
  },
  {
   "cell_type": "code",
   "execution_count": 2,
   "metadata": {},
   "outputs": [],
   "source": [
    "def loadImages(path):\n",
    "    # return array of images\n",
    "\n",
    "    labledDataSet = np.empty((1, 10305))\n",
    "    personList = listdir(path)\n",
    "    \n",
    "    for person in personList:\n",
    "        imgList = listdir(path + \"/\" + person)\n",
    "        \n",
    "        for img in imgList:\n",
    "            anImage = image.imread(path + \"/\" + person + \"/\" + img)\n",
    "            #print(path + \"/\" + person + \"==>\" + img)\n",
    "            label = [person]\n",
    "            anImage = anImage.flatten()\n",
    "            labledSample = np.concatenate((label, anImage))\n",
    "            labledSample = labledSample.reshape(1, 10305)\n",
    "            labledDataSet = np.append(labledDataSet, labledSample, 0)\n",
    "    \n",
    "    labledDataSet = labledDataSet[1:,:]\n",
    "    return labledDataSet\n"
   ]
  },
  {
   "cell_type": "code",
   "execution_count": 3,
   "metadata": {},
   "outputs": [],
   "source": [
    "path = \"att_faces/orl_faces\"\n",
    "\n",
    "#load the dataset\n",
    "labeledData = loadImages(path)\n",
    "\n",
    "#split the dataset\n",
    "trainingLabeledData = labeledData[1::2]\n",
    "testLabeledData = labeledData[0::2]\n",
    "\n",
    "#split the labels from the data\n",
    "trainingLabels, trainingData = trainingLabeledData[:,0], trainingLabeledData[:,1:]\n",
    "trainingData = np.array(trainingData).astype(np.float64)\n",
    "\n",
    "#scale the training data\n",
    "scaledTrainingData = preprocessing.scale(trainingData)\n",
    "\n",
    "#provide an access to each label\n",
    "trainingDict = {trainingLabel: trainingData[trainingLabels == trainingLabel] for trainingLabel in np.unique(trainingLabels)}\n",
    "\n",
    "testLabels, testData = testLabeledData[:,0], testLabeledData[:,1:]\n",
    "testData = np.array(testData).astype(np.float64)\n",
    "\n",
    "#scale the test data\n",
    "scaledTestData = preprocessing.scale(testData)\n",
    "\n",
    "#provide an access to each label\n",
    "testDict = {testLabel: testData[testLabels == testLabel] for testLabel in np.unique(testLabels)}"
   ]
  },
  {
   "cell_type": "markdown",
   "metadata": {},
   "source": [
    "# Linear Discriminant Analysis"
   ]
  },
  {
   "cell_type": "code",
   "execution_count": 4,
   "metadata": {},
   "outputs": [],
   "source": [
    "#calculate the required means (the total mean should be close to zero)\n",
    "totalMean = np.matrix(np.mean(scaledTrainingData, axis = 0))\n",
    "\n",
    "classMeans = dict()\n",
    "\n",
    "for label, labelData in trainingDict.items():\n",
    "    classMeans[label] = np.matrix(np.mean(labelData, axis = 0))\n",
    "\n"
   ]
  },
  {
   "cell_type": "code",
   "execution_count": 5,
   "metadata": {},
   "outputs": [],
   "source": [
    "#calculate the between-class matrix Sb and the within-class matrix Sw \n",
    "Sb = np.zeros((10304, 10304))\n",
    "Sw = np.zeros((10304, 10304))\n",
    "\n",
    "for label, classMean in classMeans.items():\n",
    "    diffBetween = classMean - totalMean\n",
    "    Sb += np.ma.size(trainingDict[label], 0) * np.dot(diffBetween.T, diffBetween)\n",
    "    \n",
    "    diffWithin = trainingDict[label] - classMean\n",
    "    Sw += np.dot(diffWithin.T, diffWithin)"
   ]
  },
  {
   "cell_type": "code",
   "execution_count": 6,
   "metadata": {},
   "outputs": [],
   "source": [
    "#calculate the pseudoinverse of Sw then SwPinv . Sb\n",
    "SwPinv = np.linalg.pinv(Sw)\n",
    "x = np.dot(SwPinv, Sb)"
   ]
  },
  {
   "cell_type": "code",
   "execution_count": 7,
   "metadata": {},
   "outputs": [],
   "source": [
    "#calculate the eigen vectors of SwPinv . Sb\n",
    "[eigenVals, eigenVects] = np.linalg.eig(x)\n",
    "\n",
    "idx = np.argsort(eigenVals)\n",
    "idx = np.flip(idx)\n",
    "eigenVals = eigenVals[idx]\n",
    "eigenVects = eigenVects[:, idx]"
   ]
  },
  {
   "cell_type": "code",
   "execution_count": 8,
   "metadata": {},
   "outputs": [
    {
     "name": "stdout",
     "output_type": "stream",
     "text": [
      "error distance for eigen values if we ommit the complex part\n",
      "0.22764755425863617\n"
     ]
    }
   ],
   "source": [
    "realEigenVals = eigenVals.real\n",
    "realEigenVects = eigenVects.real\n",
    "print(\"error distance for eigen values if we ommit the complex part\")\n",
    "print(np.linalg.norm(eigenVals - realEigenVals))\n"
   ]
  },
  {
   "cell_type": "markdown",
   "metadata": {},
   "source": [
    "# Nearest Neighbor for Linear Discriminant Analysis"
   ]
  },
  {
   "cell_type": "code",
   "execution_count": 9,
   "metadata": {
    "scrolled": true
   },
   "outputs": [
    {
     "name": "stdout",
     "output_type": "stream",
     "text": [
      "One nearest neighbor\n",
      "[[3 0 0 ... 0 0 0]\n",
      " [0 5 0 ... 0 0 0]\n",
      " [0 0 5 ... 0 0 0]\n",
      " ...\n",
      " [0 0 0 ... 5 0 0]\n",
      " [0 0 0 ... 0 5 0]\n",
      " [0 0 0 ... 0 0 5]]\n",
      "              precision    recall  f1-score   support\n",
      "\n",
      "          s1       1.00      0.60      0.75         5\n",
      "         s10       1.00      1.00      1.00         5\n",
      "         s11       1.00      1.00      1.00         5\n",
      "         s12       1.00      1.00      1.00         5\n",
      "         s13       0.83      1.00      0.91         5\n",
      "         s14       1.00      1.00      1.00         5\n",
      "         s15       1.00      1.00      1.00         5\n",
      "         s16       1.00      0.80      0.89         5\n",
      "         s17       0.71      1.00      0.83         5\n",
      "         s18       1.00      0.60      0.75         5\n",
      "         s19       1.00      1.00      1.00         5\n",
      "          s2       0.83      1.00      0.91         5\n",
      "         s20       1.00      0.80      0.89         5\n",
      "         s21       1.00      1.00      1.00         5\n",
      "         s22       0.83      1.00      0.91         5\n",
      "         s23       1.00      0.60      0.75         5\n",
      "         s24       1.00      0.80      0.89         5\n",
      "         s25       0.83      1.00      0.91         5\n",
      "         s26       1.00      1.00      1.00         5\n",
      "         s27       1.00      1.00      1.00         5\n",
      "         s28       1.00      0.80      0.89         5\n",
      "         s29       0.83      1.00      0.91         5\n",
      "          s3       0.71      1.00      0.83         5\n",
      "         s30       0.71      1.00      0.83         5\n",
      "         s31       1.00      1.00      1.00         5\n",
      "         s32       1.00      1.00      1.00         5\n",
      "         s33       1.00      1.00      1.00         5\n",
      "         s34       0.83      1.00      0.91         5\n",
      "         s35       1.00      0.80      0.89         5\n",
      "         s36       1.00      0.80      0.89         5\n",
      "         s37       0.83      1.00      0.91         5\n",
      "         s38       1.00      1.00      1.00         5\n",
      "         s39       1.00      1.00      1.00         5\n",
      "          s4       1.00      0.80      0.89         5\n",
      "         s40       1.00      0.40      0.57         5\n",
      "          s5       0.71      1.00      0.83         5\n",
      "          s6       1.00      1.00      1.00         5\n",
      "          s7       0.83      1.00      0.91         5\n",
      "          s8       1.00      1.00      1.00         5\n",
      "          s9       1.00      1.00      1.00         5\n",
      "\n",
      "   micro avg       0.92      0.92      0.92       200\n",
      "   macro avg       0.94      0.92      0.92       200\n",
      "weighted avg       0.94      0.92      0.92       200\n",
      "\n",
      "accuracy score\n",
      "0.92\n",
      "============================================================\n",
      "Three nearest neighbors\n",
      "[[3 0 0 ... 0 0 0]\n",
      " [0 5 0 ... 0 0 0]\n",
      " [0 0 5 ... 0 0 0]\n",
      " ...\n",
      " [0 0 0 ... 5 0 0]\n",
      " [0 0 0 ... 0 5 0]\n",
      " [0 0 0 ... 0 0 5]]\n",
      "              precision    recall  f1-score   support\n",
      "\n",
      "          s1       1.00      0.60      0.75         5\n",
      "         s10       1.00      1.00      1.00         5\n",
      "         s11       1.00      1.00      1.00         5\n",
      "         s12       1.00      1.00      1.00         5\n",
      "         s13       0.83      1.00      0.91         5\n",
      "         s14       1.00      1.00      1.00         5\n",
      "         s15       1.00      1.00      1.00         5\n",
      "         s16       0.80      0.80      0.80         5\n",
      "         s17       0.62      1.00      0.77         5\n",
      "         s18       0.75      0.60      0.67         5\n",
      "         s19       1.00      1.00      1.00         5\n",
      "          s2       1.00      1.00      1.00         5\n",
      "         s20       1.00      1.00      1.00         5\n",
      "         s21       0.62      1.00      0.77         5\n",
      "         s22       0.50      1.00      0.67         5\n",
      "         s23       1.00      0.60      0.75         5\n",
      "         s24       1.00      1.00      1.00         5\n",
      "         s25       1.00      0.60      0.75         5\n",
      "         s26       1.00      1.00      1.00         5\n",
      "         s27       1.00      1.00      1.00         5\n",
      "         s28       0.80      0.80      0.80         5\n",
      "         s29       0.83      1.00      0.91         5\n",
      "          s3       0.71      1.00      0.83         5\n",
      "         s30       0.83      1.00      0.91         5\n",
      "         s31       1.00      0.60      0.75         5\n",
      "         s32       1.00      1.00      1.00         5\n",
      "         s33       1.00      0.80      0.89         5\n",
      "         s34       0.83      1.00      0.91         5\n",
      "         s35       0.00      0.00      0.00         5\n",
      "         s36       1.00      0.60      0.75         5\n",
      "         s37       0.80      0.80      0.80         5\n",
      "         s38       1.00      1.00      1.00         5\n",
      "         s39       1.00      1.00      1.00         5\n",
      "          s4       1.00      1.00      1.00         5\n",
      "         s40       1.00      0.40      0.57         5\n",
      "          s5       0.83      1.00      0.91         5\n",
      "          s6       1.00      1.00      1.00         5\n",
      "          s7       0.71      1.00      0.83         5\n",
      "          s8       1.00      1.00      1.00         5\n",
      "          s9       1.00      1.00      1.00         5\n",
      "\n",
      "   micro avg       0.88      0.88      0.88       200\n",
      "   macro avg       0.89      0.88      0.87       200\n",
      "weighted avg       0.89      0.88      0.87       200\n",
      "\n",
      "accuracy score\n",
      "0.88\n",
      "============================================================\n",
      "Five nearest neighbors\n",
      "[[3 0 0 ... 0 0 0]\n",
      " [0 5 0 ... 0 0 0]\n",
      " [0 0 5 ... 0 0 0]\n",
      " ...\n",
      " [0 0 0 ... 5 0 0]\n",
      " [0 1 0 ... 0 4 0]\n",
      " [0 0 0 ... 0 0 2]]\n",
      "              precision    recall  f1-score   support\n",
      "\n",
      "          s1       1.00      0.60      0.75         5\n",
      "         s10       0.83      1.00      0.91         5\n",
      "         s11       1.00      1.00      1.00         5\n",
      "         s12       1.00      1.00      1.00         5\n",
      "         s13       1.00      1.00      1.00         5\n",
      "         s14       1.00      1.00      1.00         5\n",
      "         s15       1.00      1.00      1.00         5\n",
      "         s16       0.80      0.80      0.80         5\n",
      "         s17       0.71      1.00      0.83         5\n",
      "         s18       0.80      0.80      0.80         5\n",
      "         s19       1.00      1.00      1.00         5\n",
      "          s2       1.00      1.00      1.00         5\n",
      "         s20       1.00      1.00      1.00         5\n",
      "         s21       0.62      1.00      0.77         5\n",
      "         s22       0.42      1.00      0.59         5\n",
      "         s23       1.00      0.60      0.75         5\n",
      "         s24       1.00      1.00      1.00         5\n",
      "         s25       1.00      0.80      0.89         5\n",
      "         s26       1.00      1.00      1.00         5\n",
      "         s27       0.83      1.00      0.91         5\n",
      "         s28       0.80      0.80      0.80         5\n",
      "         s29       1.00      1.00      1.00         5\n",
      "          s3       0.80      0.80      0.80         5\n",
      "         s30       0.83      1.00      0.91         5\n",
      "         s31       1.00      0.60      0.75         5\n",
      "         s32       1.00      1.00      1.00         5\n",
      "         s33       1.00      0.80      0.89         5\n",
      "         s34       0.71      1.00      0.83         5\n",
      "         s35       0.00      0.00      0.00         5\n",
      "         s36       1.00      0.80      0.89         5\n",
      "         s37       0.80      0.80      0.80         5\n",
      "         s38       1.00      1.00      1.00         5\n",
      "         s39       1.00      1.00      1.00         5\n",
      "          s4       1.00      1.00      1.00         5\n",
      "         s40       0.71      1.00      0.83         5\n",
      "          s5       1.00      0.60      0.75         5\n",
      "          s6       1.00      1.00      1.00         5\n",
      "          s7       0.83      1.00      0.91         5\n",
      "          s8       1.00      0.80      0.89         5\n",
      "          s9       1.00      0.40      0.57         5\n",
      "\n",
      "   micro avg       0.88      0.88      0.88       200\n",
      "   macro avg       0.89      0.88      0.87       200\n",
      "weighted avg       0.89      0.88      0.87       200\n",
      "\n",
      "accuracy score\n",
      "0.875\n",
      "============================================================\n",
      "Seven nearest neighbors\n",
      "[[3 0 0 ... 0 0 0]\n",
      " [0 4 0 ... 0 0 0]\n",
      " [0 0 5 ... 0 0 0]\n",
      " ...\n",
      " [0 0 0 ... 5 0 0]\n",
      " [0 0 0 ... 0 5 0]\n",
      " [0 0 0 ... 0 0 2]]\n",
      "              precision    recall  f1-score   support\n",
      "\n",
      "          s1       1.00      0.60      0.75         5\n",
      "         s10       1.00      0.80      0.89         5\n",
      "         s11       1.00      1.00      1.00         5\n",
      "         s12       1.00      1.00      1.00         5\n",
      "         s13       1.00      1.00      1.00         5\n",
      "         s14       1.00      1.00      1.00         5\n",
      "         s15       0.83      1.00      0.91         5\n",
      "         s16       0.67      0.80      0.73         5\n",
      "         s17       0.83      1.00      0.91         5\n",
      "         s18       0.80      0.80      0.80         5\n",
      "         s19       1.00      1.00      1.00         5\n",
      "          s2       1.00      1.00      1.00         5\n",
      "         s20       1.00      1.00      1.00         5\n",
      "         s21       0.71      1.00      0.83         5\n",
      "         s22       0.36      1.00      0.53         5\n",
      "         s23       1.00      1.00      1.00         5\n",
      "         s24       1.00      1.00      1.00         5\n",
      "         s25       1.00      0.80      0.89         5\n",
      "         s26       1.00      1.00      1.00         5\n",
      "         s27       0.83      1.00      0.91         5\n",
      "         s28       0.67      0.40      0.50         5\n",
      "         s29       0.83      1.00      0.91         5\n",
      "          s3       0.67      0.80      0.73         5\n",
      "         s30       0.80      0.80      0.80         5\n",
      "         s31       1.00      0.80      0.89         5\n",
      "         s32       1.00      1.00      1.00         5\n",
      "         s33       1.00      0.80      0.89         5\n",
      "         s34       0.83      1.00      0.91         5\n",
      "         s35       0.00      0.00      0.00         5\n",
      "         s36       1.00      0.80      0.89         5\n",
      "         s37       0.57      0.80      0.67         5\n",
      "         s38       1.00      1.00      1.00         5\n",
      "         s39       1.00      0.60      0.75         5\n",
      "          s4       1.00      1.00      1.00         5\n",
      "         s40       0.50      0.60      0.55         5\n",
      "          s5       1.00      0.40      0.57         5\n",
      "          s6       1.00      1.00      1.00         5\n",
      "          s7       0.83      1.00      0.91         5\n",
      "          s8       1.00      1.00      1.00         5\n",
      "          s9       1.00      0.40      0.57         5\n",
      "\n",
      "   micro avg       0.85      0.85      0.85       200\n",
      "   macro avg       0.87      0.85      0.84       200\n",
      "weighted avg       0.87      0.85      0.84       200\n",
      "\n",
      "accuracy score\n",
      "0.85\n"
     ]
    },
    {
     "name": "stderr",
     "output_type": "stream",
     "text": [
      "D:\\Tools\\Anaconda\\envs\\my-env\\lib\\site-packages\\sklearn\\metrics\\classification.py:1143: UndefinedMetricWarning: Precision and F-score are ill-defined and being set to 0.0 in labels with no predicted samples.\n",
      "  'precision', 'predicted', average, warn_for)\n"
     ]
    }
   ],
   "source": [
    "from sklearn.neighbors import KNeighborsClassifier\n",
    "from sklearn.metrics import classification_report, confusion_matrix, accuracy_score  \n",
    "\n",
    "#project the training data\n",
    "topK = realEigenVects[:, :39]\n",
    "projectedTrainingData = np.dot(trainingData, topK)\n",
    "\n",
    "#project the test data\n",
    "projectedTestData = np.dot(testData, topK)\n",
    "\n",
    "#train the classifier\n",
    "classifier = KNeighborsClassifier(n_neighbors = 1)\n",
    "classifierThree = KNeighborsClassifier(n_neighbors = 3)\n",
    "classifierFive = KNeighborsClassifier(n_neighbors = 5)\n",
    "classifierSeven = KNeighborsClassifier(n_neighbors = 7)\n",
    "\n",
    "classifier.fit(projectedTrainingData, trainingLabels)\n",
    "classifierThree.fit(projectedTrainingData, trainingLabels) \n",
    "classifierFive.fit(projectedTrainingData, trainingLabels) \n",
    "classifierSeven.fit(projectedTrainingData, trainingLabels) \n",
    "\n",
    "#predict\n",
    "labelPredict = classifier.predict(projectedTestData)\n",
    "labelPredictThree = classifierThree.predict(projectedTestData)\n",
    "labelPredictFive = classifierFive.predict(projectedTestData)\n",
    "labelPredictSeven = classifierSeven.predict(projectedTestData)\n",
    "\n",
    "#evaluation\n",
    "print(\"One nearest neighbor\")\n",
    "print(confusion_matrix(testLabels, labelPredict))  \n",
    "print(classification_report(testLabels, labelPredict))\n",
    "print(\"accuracy score\")\n",
    "accuracyOne = accuracy_score(testLabels, labelPredict)\n",
    "print(accuracyOne)\n",
    "print(\"============================================================\")\n",
    "print(\"Three nearest neighbors\")\n",
    "print(confusion_matrix(testLabels, labelPredictThree))  \n",
    "print(classification_report(testLabels, labelPredictThree))\n",
    "print(\"accuracy score\")\n",
    "accuracyThree = accuracy_score(testLabels, labelPredictThree)\n",
    "print(accuracyThree)\n",
    "print(\"============================================================\")\n",
    "print(\"Five nearest neighbors\")\n",
    "print(confusion_matrix(testLabels, labelPredictFive))  \n",
    "print(classification_report(testLabels, labelPredictFive))\n",
    "print(\"accuracy score\")\n",
    "accuracyFive = accuracy_score(testLabels, labelPredictFive)\n",
    "print(accuracyFive)\n",
    "print(\"============================================================\")\n",
    "print(\"Seven nearest neighbors\")\n",
    "print(confusion_matrix(testLabels, labelPredictSeven))  \n",
    "print(classification_report(testLabels, labelPredictSeven))\n",
    "print(\"accuracy score\")\n",
    "accuracySeven = accuracy_score(testLabels, labelPredictSeven)\n",
    "print(accuracySeven)"
   ]
  },
  {
   "cell_type": "code",
   "execution_count": 10,
   "metadata": {},
   "outputs": [
    {
     "data": {
      "text/plain": [
       "[<matplotlib.lines.Line2D at 0x1768fbe8780>]"
      ]
     },
     "execution_count": 10,
     "metadata": {},
     "output_type": "execute_result"
    },
    {
     "data": {
      "image/png": "[encoded data removed]",
      "text/plain": [
       "<Figure size 432x288 with 1 Axes>"
      ]
     },
     "metadata": {
      "needs_background": "light"
     },
     "output_type": "display_data"
    }
   ],
   "source": [
    "%matplotlib inline\n",
    "import matplotlib.pyplot as plt\n",
    "xline = [1, 3, 5, 7]\n",
    "yline = [accuracyOne, accuracyThree, accuracyFive, accuracySeven]\n",
    "plt.plot(xline, yline, \"o\")"
   ]
  },
  {
   "cell_type": "markdown",
   "metadata": {},
   "source": [
    "## bonus\n"
   ]
  },
  {
   "cell_type": "code",
   "execution_count": 11,
   "metadata": {},
   "outputs": [],
   "source": [
    "dataSetDic = {label: labeledData[labeledData[:,0] == label][:,1:] for label in np.unique(labeledData[:,0])}\n",
    "y_test = np.empty((2,1))\n",
    "y_train= np.empty((2,1))\n",
    "x_train = np.empty((1,10304))\n",
    "x_test = np.empty((1,10304))"
   ]
  },
  {
   "cell_type": "code",
   "execution_count": 12,
   "metadata": {},
   "outputs": [
    {
     "name": "stdout",
     "output_type": "stream",
     "text": [
      "(120, 10304)\n",
      "(280, 10304)\n",
      "(120, 10304)\n",
      "(280, 1)\n",
      "(120, 1)\n"
     ]
    }
   ],
   "source": [
    "for i in range(41):\n",
    "    \n",
    "    if(i != 0):\n",
    "        label = 's'+str(i)\n",
    "        x_train = np.vstack((x_train,dataSetDic[label][0:7,:]))\n",
    "        x_test = np.vstack((x_test,dataSetDic[label][7:,:]))\n",
    "        \n",
    "        for count in range(7):\n",
    "            y_train = np.vstack((y_train,[label]))\n",
    "            \n",
    "        for index in range(3):\n",
    "            y_test = np.vstack((y_test,[label]))\n",
    "\n",
    "y_train = y_train[2: , :]\n",
    "x_train = x_train[1: , :]\n",
    "x_train = x_train.astype(float)\n",
    "x_trainDict = {label: x_train[y_train.reshape(280,) == label] for label in np.unique(y_train)}\n",
    "\n",
    "\n",
    "\n",
    "y_test = y_test[2: , :]\n",
    "x_test= x_test[1: , :]\n",
    "x_test = x_test.astype(float)\n",
    "print(x_test.shape)\n",
    "x_testDict = {test_label:x_test[y_test.reshape(120,)==test_label] for test_label in np.unique(y_test)}\n",
    "\n",
    "print(x_train.shape)\n",
    "print(x_test.shape)\n",
    "\n",
    "\n",
    "print(y_train.shape)\n",
    "print(y_test.shape)"
   ]
  },
  {
   "cell_type": "code",
   "execution_count": 13,
   "metadata": {},
   "outputs": [
    {
     "name": "stdout",
     "output_type": "stream",
     "text": [
      "(1, 10304)\n"
     ]
    }
   ],
   "source": [
    "#total mean of all classes\n",
    "totalMean = np.matrix(np.mean(x_train,0))\n",
    "print(totalMean.shape)\n",
    "#mean for each class\n",
    "classMean = dict()\n",
    "for label, data in x_trainDict.items():\n",
    "    classMean[label] = np.matrix(np.mean(data,0))"
   ]
  },
  {
   "cell_type": "code",
   "execution_count": 14,
   "metadata": {},
   "outputs": [],
   "source": [
    "Sb = np.zeros((10304,10304))\n",
    "Sw = np.zeros((10304,10304))\n",
    "\n",
    "for label, calss_mean in classMean.items():\n",
    "    diff = calss_mean - totalMean\n",
    "    Sb += x_trainDict[label].size * np.dot(diff.T,diff)\n",
    "    \n",
    "    diffWithin = x_trainDict[label] - calss_mean\n",
    "    Sw += np.dot(diffWithin.T, diffWithin)\n",
    "    "
   ]
  },
  {
   "cell_type": "code",
   "execution_count": 15,
   "metadata": {},
   "outputs": [],
   "source": [
    "#Get inverse of within matrix\n",
    "SwPinv = np.linalg.pinv(Sw)\n",
    "S =np.dot(SwPinv, Sb)"
   ]
  },
  {
   "cell_type": "code",
   "execution_count": 16,
   "metadata": {},
   "outputs": [],
   "source": [
    "#Get eigenVectors and eigenValues of S\n",
    "eigenValues_b, eigenVectors_b = np.linalg.eig(S)\n",
    "\n",
    "#descending order\n",
    "idx = np.argsort(eigenValues_b)[::-1]\n",
    "eigenVectors_b = eigenVectors_b[:,idx]\n",
    " # sort eigenvectors according to same index\n",
    "eigenValues_b = eigenValues_b[idx]\n",
    "\n",
    "realEigenVals_b = eigenValues_b.real\n",
    "realEigenVects_b = eigenVectors_b.real\n",
    "\n"
   ]
  },
  {
   "cell_type": "markdown",
   "metadata": {},
   "source": [
    "## prediction"
   ]
  },
  {
   "cell_type": "code",
   "execution_count": 17,
   "metadata": {},
   "outputs": [
    {
     "name": "stdout",
     "output_type": "stream",
     "text": [
      "0.8916666666666667\n"
     ]
    },
    {
     "name": "stderr",
     "output_type": "stream",
     "text": [
      "D:\\Tools\\Anaconda\\envs\\my-env\\lib\\site-packages\\ipykernel_launcher.py:8: DataConversionWarning: A column-vector y was passed when a 1d array was expected. Please change the shape of y to (n_samples, ), for example using ravel().\n",
      "  \n"
     ]
    }
   ],
   "source": [
    "#Classification using K-NN\n",
    "\n",
    "reduced_realEigenVects_b = realEigenVects_b[:, 0:39]\n",
    "projected_trainingSet = np.dot(x_train, reduced_realEigenVects_b)\n",
    "projected_testingSet = np.dot(x_test, reduced_realEigenVects_b)\n",
    "\n",
    "classifer_b = KNeighborsClassifier(n_neighbors= 1)\n",
    "classifer_b.fit(projected_trainingSet, y_train)\n",
    "\n",
    "prediction = classifer_b.predict(projected_testingSet)\n",
    "accuracy = accuracy_score(prediction, y_test)\n",
    "\n",
    "print(accuracy)"
   ]
  },
  {
   "cell_type": "code",
   "execution_count": null,
   "metadata": {},
   "outputs": [],
   "source": []
  }
 ],
 "metadata": {
  "kernelspec": {
   "display_name": "Python 3",
   "language": "python",
   "name": "python3"
  },
  "language_info": {
   "codemirror_mode": {
    "name": "ipython",
    "version": 3
   },
   "file_extension": ".py",
   "mimetype": "text/x-python",
   "name": "python",
   "nbconvert_exporter": "python",
   "pygments_lexer": "ipython3",
   "version": "3.7.2"
  }
 },
 "nbformat": 4,
 "nbformat_minor": 2
}
